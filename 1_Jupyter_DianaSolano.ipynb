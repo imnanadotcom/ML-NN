{
 "cells": [
  {
   "cell_type": "code",
   "execution_count": 1,
   "id": "0c46ffdc-caee-45aa-96e4-bb78920fb3d3",
   "metadata": {
    "panel-layout": {
     "height": 0,
     "visible": true,
     "width": 100
    }
   },
   "outputs": [
    {
     "name": "stdout",
     "output_type": "stream",
     "text": [
      "hola mundo\n"
     ]
    }
   ],
   "source": [
    "print(\"hola mundo\")"
   ]
  },
  {
   "cell_type": "markdown",
   "id": "1e568c09-6691-4b17-8335-29703b49c3f7",
   "metadata": {
    "panel-layout": {
     "height": 60.57500457763672,
     "visible": true,
     "width": 100
    }
   },
   "source": [
    "# Introducción a Jupyter"
   ]
  },
  {
   "cell_type": "code",
   "execution_count": 2,
   "id": "5a090bcb-aa78-4fe0-bafa-afb276e0d45d",
   "metadata": {
    "panel-layout": {
     "height": 27.13751220703125,
     "visible": true,
     "width": 100
    }
   },
   "outputs": [
    {
     "data": {
      "text/plain": [
       "2"
      ]
     },
     "execution_count": 2,
     "metadata": {},
     "output_type": "execute_result"
    }
   ],
   "source": [
    "1 + 1"
   ]
  },
  {
   "cell_type": "code",
   "execution_count": 4,
   "id": "4becc91f-d042-4ef3-afbb-71f012c9c135",
   "metadata": {
    "panel-layout": {
     "height": 0,
     "visible": true,
     "width": 100
    }
   },
   "outputs": [
    {
     "name": "stdout",
     "output_type": "stream",
     "text": [
      "Diana Iratze Solano Uscanga\n",
      "Curso Machine Learning 2025\n"
     ]
    }
   ],
   "source": [
    "print(\"Diana Iratze Solano Uscanga\")\n",
    "print(\"Curso Machine Learning 2025\")"
   ]
  },
  {
   "cell_type": "markdown",
   "id": "30d3db59-0031-4854-b490-37df579a2350",
   "metadata": {},
   "source": [
    "## Ejecutando comandos Unix o Dos"
   ]
  },
  {
   "cell_type": "code",
   "execution_count": 5,
   "id": "291f1388-a4f5-4cc5-beea-492083962052",
   "metadata": {
    "scrolled": true
   },
   "outputs": [
    {
     "name": "stdout",
     "output_type": "stream",
     "text": [
      " El volumen de la unidad C es Windows\n",
      " El número de serie del volumen es: EE40-5698\n",
      "\n",
      " Directorio de C:\\Users\\di-su\\Curso_Python_ML_Diana\n",
      "\n",
      "28/08/2025  12:07 p. m.    <DIR>          .\n",
      "28/08/2025  11:48 a. m.    <DIR>          ..\n",
      "28/08/2025  12:04 p. m.               558 .1_Jupyter_DianaSolano.ipynb.layout\n",
      "28/08/2025  11:49 a. m.    <DIR>          .ipynb_checkpoints\n",
      "28/08/2025  12:07 p. m.             2,585 1_Jupyter_DianaSolano.ipynb\n",
      "               2 archivos          3,143 bytes\n",
      "               3 dirs  182,869,544,960 bytes libres\n"
     ]
    }
   ],
   "source": [
    "!dir"
   ]
  },
  {
   "cell_type": "markdown",
   "id": "139af6c8-7aae-48c0-a86f-9e648b865465",
   "metadata": {},
   "source": [
    "#### Título"
   ]
  },
  {
   "cell_type": "markdown",
   "id": "1ae25837-870f-4b45-81fc-4dd0ba942449",
   "metadata": {},
   "source": [
    "<h1 style=\"color:green;\">Data Science</h1><br>\n",
    "Machine Learning y Python<br>\n",
    "<b>Esto es texto en negrita</b><br>\n",
    "\n",
    "<img src=\"https://f.hubspotusercontent40.net/hubfs/2488049/Machine%20Learning%20Cover%20Image.jpg\" />"
   ]
  },
  {
   "cell_type": "markdown",
   "id": "56617e25-248a-4273-8a1b-177e0275be85",
   "metadata": {},
   "source": [
    "## Esto es un ejemplo de Latex\n",
    "<hl> $f(x) = x*2$ </h1>"
   ]
  },
  {
   "cell_type": "code",
   "execution_count": null,
   "id": "2080ad81-b1d4-406b-9cb3-33a084ef85f3",
   "metadata": {},
   "outputs": [],
   "source": []
  }
 ],
 "metadata": {
  "kernelspec": {
   "display_name": "Python [conda env:base] *",
   "language": "python",
   "name": "conda-base-py"
  },
  "language_info": {
   "codemirror_mode": {
    "name": "ipython",
    "version": 3
   },
   "file_extension": ".py",
   "mimetype": "text/x-python",
   "name": "python",
   "nbconvert_exporter": "python",
   "pygments_lexer": "ipython3",
   "version": "3.13.5"
  },
  "panel-cell-order": [
   "0c46ffdc-caee-45aa-96e4-bb78920fb3d3",
   "1e568c09-6691-4b17-8335-29703b49c3f7",
   "5a090bcb-aa78-4fe0-bafa-afb276e0d45d",
   "4becc91f-d042-4ef3-afbb-71f012c9c135"
  ]
 },
 "nbformat": 4,
 "nbformat_minor": 5
}
