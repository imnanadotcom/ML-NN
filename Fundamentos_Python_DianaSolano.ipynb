{
 "cells": [
  {
   "cell_type": "markdown",
   "id": "e5d58709-27ed-4a88-835d-02addc99f42d",
   "metadata": {},
   "source": [
    "# Fundamentos de Python para el curso"
   ]
  },
  {
   "cell_type": "markdown",
   "id": "56c1dae6-5a80-4848-917a-15a409fcaf4b",
   "metadata": {},
   "source": [
    "### Variables en Python"
   ]
  },
  {
   "cell_type": "markdown",
   "id": "b9e4e1ff-1af7-4705-9120-c84d02635326",
   "metadata": {},
   "source": [
    "<h1 style=\"color:blue\"> Diana Iratze Solano Uscanga </h1> "
   ]
  },
  {
   "cell_type": "code",
   "execution_count": 22,
   "id": "8ea47494-8cd0-48c3-99ef-e591530f5be6",
   "metadata": {},
   "outputs": [
    {
     "name": "stdout",
     "output_type": "stream",
     "text": [
      "Diana Iratze Solano Uscanga\n",
      "Curso Machine Learning 2025\n"
     ]
    }
   ],
   "source": [
    "print(\"Diana Iratze Solano Uscanga\")\n",
    "print(\"Curso Machine Learning 2025\")"
   ]
  },
  {
   "cell_type": "code",
   "execution_count": 6,
   "id": "d9582de9-ad22-4d58-a444-248eaf4fd4c5",
   "metadata": {},
   "outputs": [],
   "source": [
    "#String\n",
    "nombre_alumno = \"Diana Solano es mi nombre\""
   ]
  },
  {
   "cell_type": "code",
   "execution_count": 7,
   "id": "d1b97d08-9da0-4b9a-b2fb-1d5155723069",
   "metadata": {},
   "outputs": [],
   "source": [
    "# Enteros o Int\n",
    "edad_alumno = 21"
   ]
  },
  {
   "cell_type": "code",
   "execution_count": 8,
   "id": "5cdd37a2-edbc-4ae6-93c9-8607074cf447",
   "metadata": {},
   "outputs": [],
   "source": [
    "#Punto flotante o float\n",
    "peso = 46.2"
   ]
  },
  {
   "cell_type": "code",
   "execution_count": 9,
   "id": "ef195414-9c35-4fb4-9d75-f052c93de2b2",
   "metadata": {},
   "outputs": [],
   "source": [
    "#Booleanos\n",
    "nublado = True\n",
    "nublado = False"
   ]
  },
  {
   "cell_type": "code",
   "execution_count": 10,
   "id": "077509c6-b261-4e63-bf67-f11ab086ace6",
   "metadata": {},
   "outputs": [
    {
     "name": "stdout",
     "output_type": "stream",
     "text": [
      "Diana Solano es mi nombre\n",
      "21\n",
      "46.2\n",
      "False\n"
     ]
    }
   ],
   "source": [
    "print(nombre_alumno)\n",
    "print(edad_alumno)\n",
    "print(peso)\n",
    "print(nublado)"
   ]
  },
  {
   "cell_type": "code",
   "execution_count": 23,
   "id": "2e0560e5-2547-4542-9ea3-a9871e1f9e83",
   "metadata": {},
   "outputs": [
    {
     "name": "stdout",
     "output_type": "stream",
     "text": [
      "Diana Iratze Solano Uscanga\n",
      "Curso Machine Learning 2025\n"
     ]
    }
   ],
   "source": [
    "print(\"Diana Iratze Solano Uscanga\")\n",
    "print(\"Curso Machine Learning 2025\")"
   ]
  },
  {
   "cell_type": "code",
   "execution_count": 11,
   "id": "241c36b9-4fcd-4ef2-a0c1-05977d466237",
   "metadata": {},
   "outputs": [
    {
     "data": {
      "text/plain": [
       "'\\nEsto es otra forma de escribir comentarios en un código de python\\n'"
      ]
     },
     "execution_count": 11,
     "metadata": {},
     "output_type": "execute_result"
    }
   ],
   "source": [
    "# Esto es un comentario\n",
    "\n",
    "\"\"\"\n",
    "Esto es otra forma de escribir comentarios en un código de python\n",
    "\"\"\""
   ]
  },
  {
   "cell_type": "code",
   "execution_count": 12,
   "id": "f5ff3277-2c26-44f7-808e-bcf81b3510e7",
   "metadata": {},
   "outputs": [
    {
     "name": "stdout",
     "output_type": "stream",
     "text": [
      "<class 'str'>\n",
      "<class 'int'>\n",
      "<class 'float'>\n",
      "<class 'bool'>\n"
     ]
    }
   ],
   "source": [
    "#Funcion type\n",
    "print(type(nombre_alumno))\n",
    "print(type(edad_alumno))\n",
    "print(type(peso))\n",
    "print(type(nublado))"
   ]
  },
  {
   "cell_type": "code",
   "execution_count": 13,
   "id": "2a1a32c4-8dfe-4ef8-9f8e-9cd83b89445c",
   "metadata": {},
   "outputs": [
    {
     "name": "stdin",
     "output_type": "stream",
     "text": [
      "Por favor, introduzca su nombre: \n",
      " diana\n"
     ]
    }
   ],
   "source": [
    "nombre = input(\"Por favor, introduzca su nombre: \\n\")"
   ]
  },
  {
   "cell_type": "markdown",
   "id": "a93e4df4-20af-491c-8033-b28b3645d187",
   "metadata": {},
   "source": [
    "#### Operaciones básica en Python"
   ]
  },
  {
   "cell_type": "markdown",
   "id": "5fab300f-8fb7-4cd8-bf9a-eb165453796d",
   "metadata": {},
   "source": [
    "<h1 style=\"color:yellow\"> Diana Iratze Solano Uscanga </h1> "
   ]
  },
  {
   "cell_type": "code",
   "execution_count": 24,
   "id": "58c1348e-5b1a-443b-9205-8a7985695e5f",
   "metadata": {},
   "outputs": [
    {
     "name": "stdout",
     "output_type": "stream",
     "text": [
      "Diana Iratze Solano Uscanga\n",
      "Curso Machine Learning 2025\n"
     ]
    }
   ],
   "source": [
    "print(\"Diana Iratze Solano Uscanga\")\n",
    "print(\"Curso Machine Learning 2025\")"
   ]
  },
  {
   "cell_type": "code",
   "execution_count": 14,
   "id": "af73657b-27aa-4f7e-b38f-27828651af29",
   "metadata": {},
   "outputs": [],
   "source": [
    "num1 = 10\n",
    "num2 = 5"
   ]
  },
  {
   "cell_type": "code",
   "execution_count": 18,
   "id": "41be58df-904e-4c00-bd5d-4369656165f4",
   "metadata": {},
   "outputs": [
    {
     "name": "stdout",
     "output_type": "stream",
     "text": [
      "15\n"
     ]
    }
   ],
   "source": [
    "#SUMA\n",
    "print(num1 + num2)"
   ]
  },
  {
   "cell_type": "code",
   "execution_count": 19,
   "id": "e933827e-19e5-4483-a3b2-996ad9bf5d0f",
   "metadata": {},
   "outputs": [
    {
     "name": "stdout",
     "output_type": "stream",
     "text": [
      "50\n"
     ]
    }
   ],
   "source": [
    "#MULTIPLICACIÓN\n",
    "print(num1*num2)"
   ]
  },
  {
   "cell_type": "code",
   "execution_count": 20,
   "id": "56ff037a-4d78-4c4a-9a2d-b757c5f519a3",
   "metadata": {},
   "outputs": [
    {
     "name": "stdout",
     "output_type": "stream",
     "text": [
      "2.0\n"
     ]
    }
   ],
   "source": [
    "#División\n",
    "print(num1/num2)"
   ]
  },
  {
   "cell_type": "code",
   "execution_count": 21,
   "id": "c2b14d34-6c2d-429d-9e4a-de01441ad724",
   "metadata": {},
   "outputs": [
    {
     "name": "stdout",
     "output_type": "stream",
     "text": [
      "1000\n",
      "25\n"
     ]
    }
   ],
   "source": [
    "#Potenciacion\n",
    "print(num1 ** 3)\n",
    "print(num2 ** 2)"
   ]
  },
  {
   "cell_type": "code",
   "execution_count": 26,
   "id": "eb5dda07-4eef-4d29-8fbd-1d1d5a346fe0",
   "metadata": {},
   "outputs": [
    {
     "name": "stdin",
     "output_type": "stream",
     "text": [
      "ingrese un número entero ---> 8\n"
     ]
    }
   ],
   "source": [
    "num3 = input(\"ingrese un número entero --->\")"
   ]
  },
  {
   "cell_type": "code",
   "execution_count": 27,
   "id": "05d646dd-191f-43cc-a8d4-0aea78faaeea",
   "metadata": {},
   "outputs": [
    {
     "name": "stdout",
     "output_type": "stream",
     "text": [
      "<class 'str'>\n"
     ]
    }
   ],
   "source": [
    "print(type(num3))"
   ]
  },
  {
   "cell_type": "markdown",
   "id": "3b3e4c14-f5e9-4cf6-9549-fb5b13b11286",
   "metadata": {},
   "source": [
    "### Conversión entre tipos de datos (Variables)"
   ]
  },
  {
   "cell_type": "markdown",
   "id": "3aa81746-e1ec-4071-8a10-0be417e26d28",
   "metadata": {},
   "source": [
    "<h1 style=\"color:red\"> Diana Iratze Solano Uscanga </h1> "
   ]
  },
  {
   "cell_type": "code",
   "execution_count": 29,
   "id": "b4dc7865-2e33-409f-b153-ea79d63bc3de",
   "metadata": {},
   "outputs": [
    {
     "name": "stdout",
     "output_type": "stream",
     "text": [
      "777 <class 'int'>\n"
     ]
    }
   ],
   "source": [
    "#String a Int\n",
    "Entero = int(\"777\")\n",
    "print(Entero, type(Entero))"
   ]
  },
  {
   "cell_type": "code",
   "execution_count": 30,
   "id": "b7908b7e-06c8-4aca-8ec1-994bccf16be7",
   "metadata": {},
   "outputs": [
    {
     "name": "stdout",
     "output_type": "stream",
     "text": [
      "43.2 <class 'float'>\n"
     ]
    }
   ],
   "source": [
    "#String a float\n",
    "Flotante = float(\"43.2\")\n",
    "print(Flotante, type(Flotante))"
   ]
  },
  {
   "cell_type": "code",
   "execution_count": 32,
   "id": "8670cfc5-1400-4225-b28d-143047d3f38f",
   "metadata": {},
   "outputs": [
    {
     "name": "stdout",
     "output_type": "stream",
     "text": [
      "True <class 'bool'>\n"
     ]
    }
   ],
   "source": [
    "#String a booleano\n",
    "valor_booleano = bool(\"True\")\n",
    "print(valor_booleano, type(valor_booleano))"
   ]
  },
  {
   "cell_type": "code",
   "execution_count": 33,
   "id": "a38fd35c-1aad-4b65-8135-5ae99604e88a",
   "metadata": {},
   "outputs": [
    {
     "name": "stdout",
     "output_type": "stream",
     "text": [
      "False <class 'bool'>\n"
     ]
    }
   ],
   "source": [
    "#Entero a Booleano\n",
    "booleano_a = bool(0)\n",
    "print(booleano_a, type(booleano_a))"
   ]
  },
  {
   "cell_type": "code",
   "execution_count": 34,
   "id": "5d403daf-155c-4754-9a27-ec90614eab6e",
   "metadata": {},
   "outputs": [
    {
     "name": "stdout",
     "output_type": "stream",
     "text": [
      "True <class 'bool'>\n"
     ]
    }
   ],
   "source": [
    "#Entero a Booleano\n",
    "booleano_a = bool(1)\n",
    "print(booleano_a, type(booleano_a))"
   ]
  },
  {
   "cell_type": "markdown",
   "id": "169c000b-ebaf-4ddc-844d-0d43cc9cb487",
   "metadata": {},
   "source": [
    "### Operadores de comparación"
   ]
  },
  {
   "cell_type": "markdown",
   "id": "b2ff4927-7170-4fbc-87f4-95572c294551",
   "metadata": {},
   "source": [
    "<h1 style=\"color:brown\"> Diana Iratze Solano Uscanga </h1> "
   ]
  },
  {
   "cell_type": "code",
   "execution_count": 38,
   "id": "cfd48194-090a-49a9-b09c-8d6687f9e719",
   "metadata": {},
   "outputs": [
    {
     "name": "stdout",
     "output_type": "stream",
     "text": [
      "Diana Iratze Solano Uscanga\n",
      "Curso Machine Learning 2025\n"
     ]
    }
   ],
   "source": [
    "print(\"Diana Iratze Solano Uscanga\")\n",
    "print(\"Curso Machine Learning 2025\")"
   ]
  },
  {
   "cell_type": "code",
   "execution_count": 35,
   "id": "fc76fd15-5c55-4260-8ece-fe76c5b987c9",
   "metadata": {},
   "outputs": [
    {
     "name": "stdout",
     "output_type": "stream",
     "text": [
      "True\n"
     ]
    }
   ],
   "source": [
    "#¿es igual?\n",
    "print(6 == 6.0)"
   ]
  },
  {
   "cell_type": "code",
   "execution_count": 37,
   "id": "8d42aa18-ad89-46ce-a633-290488ab3305",
   "metadata": {},
   "outputs": [
    {
     "name": "stdout",
     "output_type": "stream",
     "text": [
      "False\n",
      "True\n",
      "True\n"
     ]
    }
   ],
   "source": [
    "# ¿Son diferentes?\n",
    "num1 = 3\n",
    "num2 = 2\n",
    "num3 = 1\n",
    "\n",
    "print (6 != 6)\n",
    "print (num1 != num2)\n",
    "print (num1 != num2 != num3)"
   ]
  },
  {
   "cell_type": "markdown",
   "id": "82baa4a9-06b1-4940-b58a-5863c363f5f8",
   "metadata": {},
   "source": [
    "### Estructuras de control"
   ]
  },
  {
   "cell_type": "code",
   "execution_count": null,
   "id": "d5fb78b3-ea91-4a8e-8058-a8fe60237e28",
   "metadata": {},
   "outputs": [],
   "source": []
  }
 ],
 "metadata": {
  "kernelspec": {
   "display_name": "Python [conda env:base] *",
   "language": "python",
   "name": "conda-base-py"
  },
  "language_info": {
   "codemirror_mode": {
    "name": "ipython",
    "version": 3
   },
   "file_extension": ".py",
   "mimetype": "text/x-python",
   "name": "python",
   "nbconvert_exporter": "python",
   "pygments_lexer": "ipython3",
   "version": "3.13.5"
  }
 },
 "nbformat": 4,
 "nbformat_minor": 5
}
